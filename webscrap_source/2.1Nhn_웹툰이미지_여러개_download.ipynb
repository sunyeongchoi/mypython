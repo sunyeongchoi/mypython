{
 "cells": [
  {
   "cell_type": "markdown",
   "metadata": {},
   "source": [
    "#### 특정 웹툰 페이지 모든 image를 다운로드 하기\n",
    "* soup.select('img[src$=.jpg]')\n",
    "* img 폴더를 생성하고 img 폴더 하위에 파일 저장\n"
   ]
  },
  {
   "cell_type": "code",
   "execution_count": 15,
   "metadata": {},
   "outputs": [
    {
     "name": "stdout",
     "output_type": "stream",
     "text": [
      "24\n",
      "https://shared-comic.pstatic.net/thumb/webtoon/626906/thumbnail/title_thumbnail_20150810235651_t218x120.jpg\n",
      "Writing to title_thumbnail_20150810235651_t218x120.jpg (25114 bytes)\n",
      "https://image-comic.pstatic.net/webtoon/626906/602/20200720170605_25afe583d26a90598d9dc108ff5f5c98_IMAG01_1.jpg\n",
      "Writing to 20200720170605_25afe583d26a90598d9dc108ff5f5c98_IMAG01_1.jpg (144664 bytes)\n",
      "https://image-comic.pstatic.net/webtoon/626906/602/20200720170605_25afe583d26a90598d9dc108ff5f5c98_IMAG01_2.jpg\n",
      "Writing to 20200720170605_25afe583d26a90598d9dc108ff5f5c98_IMAG01_2.jpg (156101 bytes)\n",
      "https://image-comic.pstatic.net/webtoon/626906/602/20200720170605_25afe583d26a90598d9dc108ff5f5c98_IMAG01_3.jpg\n",
      "Writing to 20200720170605_25afe583d26a90598d9dc108ff5f5c98_IMAG01_3.jpg (231168 bytes)\n",
      "https://image-comic.pstatic.net/webtoon/626906/602/20200720170605_25afe583d26a90598d9dc108ff5f5c98_IMAG01_4.jpg\n",
      "Writing to 20200720170605_25afe583d26a90598d9dc108ff5f5c98_IMAG01_4.jpg (161708 bytes)\n",
      "https://image-comic.pstatic.net/webtoon/626906/602/20200720170605_25afe583d26a90598d9dc108ff5f5c98_IMAG01_5.jpg\n",
      "Writing to 20200720170605_25afe583d26a90598d9dc108ff5f5c98_IMAG01_5.jpg (169516 bytes)\n",
      "https://image-comic.pstatic.net/webtoon/626906/602/20200720170605_25afe583d26a90598d9dc108ff5f5c98_IMAG01_6.jpg\n",
      "Writing to 20200720170605_25afe583d26a90598d9dc108ff5f5c98_IMAG01_6.jpg (218901 bytes)\n",
      "https://image-comic.pstatic.net/webtoon/626906/602/20200720170605_25afe583d26a90598d9dc108ff5f5c98_IMAG01_7.jpg\n",
      "Writing to 20200720170605_25afe583d26a90598d9dc108ff5f5c98_IMAG01_7.jpg (112395 bytes)\n",
      "https://image-comic.pstatic.net/webtoon/626906/602/20200720170605_25afe583d26a90598d9dc108ff5f5c98_IMAG01_8.jpg\n",
      "Writing to 20200720170605_25afe583d26a90598d9dc108ff5f5c98_IMAG01_8.jpg (210021 bytes)\n",
      "https://image-comic.pstatic.net/webtoon/626906/602/20200720170605_25afe583d26a90598d9dc108ff5f5c98_IMAG01_9.jpg\n",
      "Writing to 20200720170605_25afe583d26a90598d9dc108ff5f5c98_IMAG01_9.jpg (192971 bytes)\n",
      "https://image-comic.pstatic.net/webtoon/626906/602/20200720170605_25afe583d26a90598d9dc108ff5f5c98_IMAG01_10.jpg\n",
      "Writing to 20200720170605_25afe583d26a90598d9dc108ff5f5c98_IMAG01_10.jpg (163415 bytes)\n",
      "https://image-comic.pstatic.net/webtoon/626906/602/20200720170605_25afe583d26a90598d9dc108ff5f5c98_IMAG01_11.jpg\n",
      "Writing to 20200720170605_25afe583d26a90598d9dc108ff5f5c98_IMAG01_11.jpg (104413 bytes)\n",
      "https://image-comic.pstatic.net/webtoon/626906/602/20200720170605_25afe583d26a90598d9dc108ff5f5c98_IMAG01_12.jpg\n",
      "Writing to 20200720170605_25afe583d26a90598d9dc108ff5f5c98_IMAG01_12.jpg (129389 bytes)\n",
      "https://image-comic.pstatic.net/webtoon/626906/602/20200720170605_25afe583d26a90598d9dc108ff5f5c98_IMAG01_13.jpg\n",
      "Writing to 20200720170605_25afe583d26a90598d9dc108ff5f5c98_IMAG01_13.jpg (187069 bytes)\n",
      "https://image-comic.pstatic.net/webtoon/626906/602/20200720170605_25afe583d26a90598d9dc108ff5f5c98_IMAG01_14.jpg\n",
      "Writing to 20200720170605_25afe583d26a90598d9dc108ff5f5c98_IMAG01_14.jpg (195693 bytes)\n",
      "https://image-comic.pstatic.net/webtoon/626906/602/20200720170605_25afe583d26a90598d9dc108ff5f5c98_IMAG01_15.jpg\n",
      "Writing to 20200720170605_25afe583d26a90598d9dc108ff5f5c98_IMAG01_15.jpg (84353 bytes)\n",
      "https://shared-comic.pstatic.net/thumb/webtoon/626906/599/thumbnail_202x120_a67685f1-2838-4f48-8b94-21fde8dc0803.jpg\n",
      "Writing to thumbnail_202x120_a67685f1-2838-4f48-8b94-21fde8dc0803.jpg (25968 bytes)\n",
      "https://shared-comic.pstatic.net/thumb/webtoon/626906/600/thumbnail_202x120_7b8898b1-39c2-4730-a703-877ec4cb1b0c.jpg\n",
      "Writing to thumbnail_202x120_7b8898b1-39c2-4730-a703-877ec4cb1b0c.jpg (39571 bytes)\n",
      "https://shared-comic.pstatic.net/thumb/webtoon/626906/601/thumbnail_202x120_df2399c5-6e37-4a0c-9e3f-ce6059f599d2.jpg\n",
      "Writing to thumbnail_202x120_df2399c5-6e37-4a0c-9e3f-ce6059f599d2.jpg (36288 bytes)\n",
      "https://shared-comic.pstatic.net/thumb/webtoon/626906/602/thumbnail_202x120_8cc7212c-63d3-433e-8204-c70486fd2c2d.jpg\n",
      "Writing to thumbnail_202x120_8cc7212c-63d3-433e-8204-c70486fd2c2d.jpg (39009 bytes)\n",
      "https://shared-comic.pstatic.net/thumb/webtoon/25613/thumbnail/title_thumbnail_20140103150651_t83x90.jpg\n",
      "Writing to title_thumbnail_20140103150651_t83x90.jpg (6122 bytes)\n",
      "https://shared-comic.pstatic.net/thumb/webtoon/563782/thumbnail/title_thumbnail_20130607184714_t83x90.jpg\n",
      "Writing to title_thumbnail_20130607184714_t83x90.jpg (7544 bytes)\n",
      "https://shared-comic.pstatic.net/thumb/webtoon/55143/thumbnail/title_thumbnail_20120329122039_t83x90.jpg\n",
      "Writing to title_thumbnail_20120329122039_t83x90.jpg (6242 bytes)\n",
      "https://shared-comic.pstatic.net/thumb/webtoon/318992/thumbnail/title_thumbnail_20110408115556_t83x90.jpg\n",
      "Writing to title_thumbnail_20110408115556_t83x90.jpg (7838 bytes)\n"
     ]
    }
   ],
   "source": [
    "import requests\n",
    "from bs4 import BeautifulSoup\n",
    "import os\n",
    "\n",
    "main_url= 'https://comic.naver.com/webtoon/detail.nhn?titleId=626906&no=602&amp;weekday=tue'\n",
    "res = requests.get(main_url)\n",
    "html = res.text\n",
    "soup = BeautifulSoup(html, 'html.parser')\n",
    "\n",
    "img_urls = []\n",
    "for img_url in soup.select(\"img[src$='.jpg']\"):\n",
    "    #print(img_url)\n",
    "    img_urls.append(img_url['src'])\n",
    "    \n",
    "# 디렉토리 생성\n",
    "if not os.path.isdir('img'):\n",
    "    os.mkdir('img')\n",
    "\n",
    "print(len(img_urls)) \n",
    "for img_url in img_urls:\n",
    "    #print(img_url)\n",
    "    req_header = {\n",
    "        'referer':main_url\n",
    "    }\n",
    "    \n",
    "    res2 = requests.get(img_url, headers=req_header)\n",
    "    img_data = res2.content\n",
    "    file_name = os.path.basename(img_url)\n",
    "    with open('img/'+file_name,'wb') as file:\n",
    "        print('Writing to {} ({} bytes)'.format(file_name,len(img_data)))    \n",
    "        file.write(img_data)    "
   ]
  },
  {
   "cell_type": "code",
   "execution_count": null,
   "metadata": {},
   "outputs": [],
   "source": []
  }
 ],
 "metadata": {
  "kernelspec": {
   "display_name": "Python 3",
   "language": "python",
   "name": "python3"
  },
  "language_info": {
   "codemirror_mode": {
    "name": "ipython",
    "version": 3
   },
   "file_extension": ".py",
   "mimetype": "text/x-python",
   "name": "python",
   "nbconvert_exporter": "python",
   "pygments_lexer": "ipython3",
   "version": "3.7.0"
  }
 },
 "nbformat": 4,
 "nbformat_minor": 2
}
