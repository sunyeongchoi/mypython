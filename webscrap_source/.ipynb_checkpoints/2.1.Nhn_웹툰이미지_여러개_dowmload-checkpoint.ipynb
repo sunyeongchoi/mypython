{
 "cells": [
  {
   "cell_type": "markdown",
   "metadata": {},
   "source": [
    "### 특정 웹툰 페이지 모든 image 다운로드 하기\n",
    "* soup.select('img[src$=.jpg]')\n",
    "* img 폴더 생성하고 img 폴더 하위에 파일 저장"
   ]
  },
  {
   "cell_type": "code",
   "execution_count": 27,
   "metadata": {},
   "outputs": [
    {
     "ename": "IndentationError",
     "evalue": "expected an indented block (<ipython-input-27-284c314f7426>, line 26)",
     "output_type": "error",
     "traceback": [
      "\u001b[1;36m  File \u001b[1;32m\"<ipython-input-27-284c314f7426>\"\u001b[1;36m, line \u001b[1;32m26\u001b[0m\n\u001b[1;33m    res2 = requests.get(real_url, headers=req_header)\u001b[0m\n\u001b[1;37m       ^\u001b[0m\n\u001b[1;31mIndentationError\u001b[0m\u001b[1;31m:\u001b[0m expected an indented block\n"
     ]
    }
   ],
   "source": [
    "import requests\n",
    "from bs4 import BeautifulSoup\n",
    "import os\n",
    "\n",
    "main_url = 'https://comic.naver.com/webtoon/detail.nhn?titleId=626906&no=602&amp;weekday=tue'\n",
    "res = requests.get(main_url)\n",
    "html = res.text\n",
    "soup = BeautifulSoup(html, 'html.parser')\n",
    "\n",
    "\n",
    "img_urls = []\n",
    "for img_url in soup.select(\"img[src$='.jpg']\"):\n",
    "    img_urls.append(img_url['src'])\n",
    "\n",
    "\n",
    "\n",
    "    \n",
    "# 디렉토리 생성\n",
    "if not os.path.isdir('img'):\n",
    "    os.mkdir('img')\n",
    "    \n",
    "    req_header = {\n",
    "    'referer': main_url\n",
    "    }\n",
    "    \n",
    "    for real_url in img_urls:  \n",
    "    res2 = requests.get(real_url, headers=req_header)\n",
    "    img_data = res2.content\n",
    "    file_name = os.path.basename(real_url)\n",
    "    print(file_name)\n",
    "    with open(file_name,'wb'):\n",
    "        file.write(img_data)\n",
    "    \n",
    "\n",
    "    \n",
    "\n"
   ]
  },
  {
   "cell_type": "code",
   "execution_count": null,
   "metadata": {},
   "outputs": [],
   "source": []
  },
  {
   "cell_type": "code",
   "execution_count": null,
   "metadata": {},
   "outputs": [],
   "source": []
  }
 ],
 "metadata": {
  "kernelspec": {
   "display_name": "Python 3",
   "language": "python",
   "name": "python3"
  },
  "language_info": {
   "codemirror_mode": {
    "name": "ipython",
    "version": 3
   },
   "file_extension": ".py",
   "mimetype": "text/x-python",
   "name": "python",
   "nbconvert_exporter": "python",
   "pygments_lexer": "ipython3",
   "version": "3.7.0"
  }
 },
 "nbformat": 4,
 "nbformat_minor": 2
}
