{
 "cells": [
  {
   "cell_type": "markdown",
   "metadata": {},
   "source": [
    "### 1. 네이버 웹툰 이미지 다운로드\n",
    "* Referer 라는 header값에 url을 설정한다.\n",
    "* 특정 image url을 list에 저장한다.\n",
    "* requests 의 get() 함수로 image data를 요청한다.\n",
    "* response.content 라는 property를 사용한다.\n",
    "* local file로 저장한다."
   ]
  },
  {
   "cell_type": "code",
   "execution_count": 10,
   "metadata": {},
   "outputs": [
    {
     "name": "stdout",
     "output_type": "stream",
     "text": [
      "20200720170605_25afe583d26a90598d9dc108ff5f5c98_IMAG01_1.jpg\n",
      "Writing to 20200720170605_25afe583d26a90598d9dc108ff5f5c98_IMAG01_1.jpg (144664 byte)\n",
      "20200720170605_25afe583d26a90598d9dc108ff5f5c98_IMAG01_2.jpg\n",
      "Writing to 20200720170605_25afe583d26a90598d9dc108ff5f5c98_IMAG01_2.jpg (156101 byte)\n",
      "20200720170605_25afe583d26a90598d9dc108ff5f5c98_IMAG01_3.jpg\n",
      "Writing to 20200720170605_25afe583d26a90598d9dc108ff5f5c98_IMAG01_3.jpg (231168 byte)\n"
     ]
    }
   ],
   "source": [
    "import requests\n",
    "import os\n",
    "\n",
    "req_header = {\n",
    "    'referer':'https://comic.naver.com/webtoon/detail.nhn?titleId=626906&no=602&amp;weekday=tue',\n",
    "}\n",
    "\n",
    "img_urls = [\n",
    "    'https://image-comic.pstatic.net/webtoon/626906/602/20200720170605_25afe583d26a90598d9dc108ff5f5c98_IMAG01_1.jpg',\n",
    "    'https://image-comic.pstatic.net/webtoon/626906/602/20200720170605_25afe583d26a90598d9dc108ff5f5c98_IMAG01_2.jpg',\n",
    "    'https://image-comic.pstatic.net/webtoon/626906/602/20200720170605_25afe583d26a90598d9dc108ff5f5c98_IMAG01_3.jpg'\n",
    "]\n",
    "\n",
    "for img_url in img_urls:\n",
    "    res = requests.get(img_url)#, headers=req_header)\n",
    "    img_data = res.content\n",
    "    file_name = os.path.basename(img_url)\n",
    "    print(file_name)\n",
    "    with open(file_name,'wb') as file:\n",
    "        print('Writing to {} ({} byte)'.format(file_name, len(img_data)))\n",
    "        file.write(img_data)\n",
    "\n"
   ]
  },
  {
   "cell_type": "code",
   "execution_count": null,
   "metadata": {},
   "outputs": [],
   "source": []
  },
  {
   "cell_type": "code",
   "execution_count": null,
   "metadata": {},
   "outputs": [],
   "source": []
  }
 ],
 "metadata": {
  "kernelspec": {
   "display_name": "Python 3",
   "language": "python",
   "name": "python3"
  },
  "language_info": {
   "codemirror_mode": {
    "name": "ipython",
    "version": 3
   },
   "file_extension": ".py",
   "mimetype": "text/x-python",
   "name": "python",
   "nbconvert_exporter": "python",
   "pygments_lexer": "ipython3",
   "version": "3.7.0"
  }
 },
 "nbformat": 4,
 "nbformat_minor": 2
}
