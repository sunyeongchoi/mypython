{
 "cells": [
  {
   "cell_type": "code",
   "execution_count": 3,
   "metadata": {},
   "outputs": [
    {
     "data": {
      "text/plain": [
       "'\\n<ul id=\"bible\">\\n<li id=\"ge\" class=\"first\">\\n<ul>\\n<li>aa</li>\\n<li>bb</li>\\n</ul>\\n</li>\\n<li id=\"ex\" class=\"first\">나의첫사회생활</li>\\n<li id=\"le\" class=\"second\">Still Me</li>\\n<li id=\"nu\" class=\"second\">화염과 분노 : 도널드 트럼프의 백악관 뒷이야기</li>\\n<li id=\"de\">매일 좋을 수만은 없는 여행을 한다</li>\\n</ul>\\n'"
      ]
     },
     "execution_count": 3,
     "metadata": {},
     "output_type": "execute_result"
    }
   ],
   "source": [
    "#Python’s Requests Library (Guide)\n",
    "\n",
    "#https://realpython.com/python-requests/\n",
    "\n",
    "\n",
    "\n",
    "book_html=\"\"\"\n",
    "<ul id=\"bible\">\n",
    "<li id=\"ge\" class=\"first\">\n",
    "<ul>\n",
    "<li>aa</li>\n",
    "<li>bb</li>\n",
    "</ul>\n",
    "</li>\n",
    "<li id=\"ex\" class=\"first\">나의첫사회생활</li>\n",
    "<li id=\"le\" class=\"second\">Still Me</li>\n",
    "<li id=\"nu\" class=\"second\">화염과 분노 : 도널드 트럼프의 백악관 뒷이야기</li>\n",
    "<li id=\"de\">매일 좋을 수만은 없는 여행을 한다</li>\n",
    "</ul>\n",
    "\"\"\"\n",
    "\n",
    "book_html"
   ]
  },
  {
   "cell_type": "code",
   "execution_count": 6,
   "metadata": {},
   "outputs": [
    {
     "name": "stdout",
     "output_type": "stream",
     "text": [
      "<li class=\"first\" id=\"ge\">\n",
      "<ul>\n",
      "<li>aa</li>\n",
      "<li>bb</li>\n",
      "</ul>\n",
      "</li>\n",
      "<li>aa</li>\n",
      "<li>bb</li>\n",
      "<li class=\"first\" id=\"ex\">나의첫사회생활</li>\n",
      "<li class=\"second\" id=\"le\">Still Me</li>\n",
      "<li class=\"second\" id=\"nu\">화염과 분노 : 도널드 트럼프의 백악관 뒷이야기</li>\n",
      "<li id=\"de\">매일 좋을 수만은 없는 여행을 한다</li>\n"
     ]
    }
   ],
   "source": [
    "from bs4 import BeautifulSoup\n",
    "\n",
    "soup = BeautifulSoup(book_html,'html.parser')\n",
    "soup.select(\"ul li\")\n",
    "\n",
    "for li_tag in soup.select('ul li'):\n",
    "    print(li_tag)"
   ]
  },
  {
   "cell_type": "code",
   "execution_count": 16,
   "metadata": {},
   "outputs": [
    {
     "name": "stdout",
     "output_type": "stream",
     "text": [
      "<class 'list'> [<li class=\"first\" id=\"ge\">\n",
      "<ul>\n",
      "<li>aa</li>\n",
      "<li>bb</li>\n",
      "</ul>\n",
      "</li>]\n",
      "-------------------------\n",
      "<class 'bs4.element.Tag'> <li class=\"first\" id=\"ge\">\n",
      "<ul>\n",
      "<li>aa</li>\n",
      "<li>bb</li>\n",
      "</ul>\n",
      "</li>\n",
      "-------------------------\n",
      "\n",
      "\n",
      "aa\n",
      "bb\n",
      "\n",
      "\n"
     ]
    }
   ],
   "source": [
    "# id가 ge인 태그 가져오기\n",
    "# select, select_one\n",
    "print(type(soup.select('#ge')), soup.select('#ge'))\n",
    "'''\n",
    "<class 'list'> [<li class=\"first\" id=\"ge\">\n",
    "<ul>\n",
    "<li>aa</li>\n",
    "<li>bb</li>\n",
    "</ul>\n",
    "</li>]\n",
    "'''\n",
    "print('-------------------------')\n",
    "print(type(soup.select_one('#ge')), soup.select_one('#ge'))\n",
    "'''\n",
    "<class 'bs4.element.Tag'> <li class=\"first\" id=\"ge\">\n",
    "<ul>\n",
    "<li>aa</li>\n",
    "<li>bb</li>\n",
    "</ul>\n",
    "</li>\n",
    "'''\n",
    "print('-------------------------')\n",
    "#print(soup.select('#ge').text) #오류\n",
    "print(soup.select_one('#ge').text) #aa bb"
   ]
  },
  {
   "cell_type": "code",
   "execution_count": null,
   "metadata": {},
   "outputs": [],
   "source": [
    "\n",
    "html=\"\"\"\n",
    "\n",
    "<html>\n",
    "<body>\n",
    "<div id=\"main-goods\" role=\"page\">\n",
    "<h1>과일과 야채</h1>\n",
    "<ul id=\"fr-list\">\n",
    "<li class=\"red green\" data-lo=\"ko\">사과</li>\n",
    "<li class=\"purple\" data-lo=\"us\">포도</li>\n",
    "<li class=\"yellow\" data-lo=\"us\">레몬</li>\n",
    "<li class=\"yellow\" data-lo=\"ko\">오렌지</li>\n",
    "</ul>\n",
    "<ul id=\"ve-list\">\n",
    "<li class=\"white green\" data-lo=\"ko\">무</li>\n",
    "<li class=\"red green\" data-lo=\"us\">파프리카</li>\n",
    "<li class=\"black\" data-lo=\"ko\">가지</li>\n",
    "<li class=\"black\" data-lo=\"us\">아보카도</li>\n",
    "<li class=\"white\" data-lo=\"cn\">연근</li>\n",
    "</ul>\n",
    "</div>\n",
    "<body>\n",
    "</html>\n",
    "\n",
    "\"\"\"\n"
   ]
  }
 ],
 "metadata": {
  "kernelspec": {
   "display_name": "Python 3",
   "language": "python",
   "name": "python3"
  },
  "language_info": {
   "codemirror_mode": {
    "name": "ipython",
    "version": 3
   },
   "file_extension": ".py",
   "mimetype": "text/x-python",
   "name": "python",
   "nbconvert_exporter": "python",
   "pygments_lexer": "ipython3",
   "version": "3.7.0"
  }
 },
 "nbformat": 4,
 "nbformat_minor": 2
}
