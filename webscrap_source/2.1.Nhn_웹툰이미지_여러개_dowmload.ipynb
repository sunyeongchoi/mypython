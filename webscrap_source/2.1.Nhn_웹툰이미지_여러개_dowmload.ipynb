{
 "cells": [
  {
   "cell_type": "markdown",
   "metadata": {},
   "source": [
    "### 특정 웹툰 페이지 모든 image 다운로드 하기\n",
    "* soup.select('img[src$=.jpg]')\n",
    "* img 폴더 생성하고 img 폴더 하위에 파일 저장"
   ]
  },
  {
   "cell_type": "code",
   "execution_count": 33,
   "metadata": {},
   "outputs": [
    {
     "name": "stdout",
     "output_type": "stream",
     "text": [
      "title_thumbnail_20150810235651_t218x120.jpg\n",
      "Writing to title_thumbnail_20150810235651_t218x120.jpg (25114 bytes)\n",
      "20200720170605_25afe583d26a90598d9dc108ff5f5c98_IMAG01_1.jpg\n",
      "Writing to 20200720170605_25afe583d26a90598d9dc108ff5f5c98_IMAG01_1.jpg (144664 bytes)\n",
      "20200720170605_25afe583d26a90598d9dc108ff5f5c98_IMAG01_2.jpg\n",
      "Writing to 20200720170605_25afe583d26a90598d9dc108ff5f5c98_IMAG01_2.jpg (156101 bytes)\n",
      "20200720170605_25afe583d26a90598d9dc108ff5f5c98_IMAG01_3.jpg\n",
      "Writing to 20200720170605_25afe583d26a90598d9dc108ff5f5c98_IMAG01_3.jpg (231168 bytes)\n",
      "20200720170605_25afe583d26a90598d9dc108ff5f5c98_IMAG01_4.jpg\n",
      "Writing to 20200720170605_25afe583d26a90598d9dc108ff5f5c98_IMAG01_4.jpg (161708 bytes)\n",
      "20200720170605_25afe583d26a90598d9dc108ff5f5c98_IMAG01_5.jpg\n",
      "Writing to 20200720170605_25afe583d26a90598d9dc108ff5f5c98_IMAG01_5.jpg (169516 bytes)\n",
      "20200720170605_25afe583d26a90598d9dc108ff5f5c98_IMAG01_6.jpg\n",
      "Writing to 20200720170605_25afe583d26a90598d9dc108ff5f5c98_IMAG01_6.jpg (218901 bytes)\n",
      "20200720170605_25afe583d26a90598d9dc108ff5f5c98_IMAG01_7.jpg\n",
      "Writing to 20200720170605_25afe583d26a90598d9dc108ff5f5c98_IMAG01_7.jpg (112395 bytes)\n",
      "20200720170605_25afe583d26a90598d9dc108ff5f5c98_IMAG01_8.jpg\n",
      "Writing to 20200720170605_25afe583d26a90598d9dc108ff5f5c98_IMAG01_8.jpg (210021 bytes)\n",
      "20200720170605_25afe583d26a90598d9dc108ff5f5c98_IMAG01_9.jpg\n",
      "Writing to 20200720170605_25afe583d26a90598d9dc108ff5f5c98_IMAG01_9.jpg (192971 bytes)\n",
      "20200720170605_25afe583d26a90598d9dc108ff5f5c98_IMAG01_10.jpg\n",
      "Writing to 20200720170605_25afe583d26a90598d9dc108ff5f5c98_IMAG01_10.jpg (163415 bytes)\n",
      "20200720170605_25afe583d26a90598d9dc108ff5f5c98_IMAG01_11.jpg\n",
      "Writing to 20200720170605_25afe583d26a90598d9dc108ff5f5c98_IMAG01_11.jpg (104413 bytes)\n",
      "20200720170605_25afe583d26a90598d9dc108ff5f5c98_IMAG01_12.jpg\n",
      "Writing to 20200720170605_25afe583d26a90598d9dc108ff5f5c98_IMAG01_12.jpg (129389 bytes)\n",
      "20200720170605_25afe583d26a90598d9dc108ff5f5c98_IMAG01_13.jpg\n",
      "Writing to 20200720170605_25afe583d26a90598d9dc108ff5f5c98_IMAG01_13.jpg (187069 bytes)\n",
      "20200720170605_25afe583d26a90598d9dc108ff5f5c98_IMAG01_14.jpg\n",
      "Writing to 20200720170605_25afe583d26a90598d9dc108ff5f5c98_IMAG01_14.jpg (195693 bytes)\n",
      "20200720170605_25afe583d26a90598d9dc108ff5f5c98_IMAG01_15.jpg\n",
      "Writing to 20200720170605_25afe583d26a90598d9dc108ff5f5c98_IMAG01_15.jpg (84353 bytes)\n",
      "thumbnail_202x120_a67685f1-2838-4f48-8b94-21fde8dc0803.jpg\n",
      "Writing to thumbnail_202x120_a67685f1-2838-4f48-8b94-21fde8dc0803.jpg (25968 bytes)\n",
      "thumbnail_202x120_7b8898b1-39c2-4730-a703-877ec4cb1b0c.jpg\n",
      "Writing to thumbnail_202x120_7b8898b1-39c2-4730-a703-877ec4cb1b0c.jpg (39571 bytes)\n",
      "thumbnail_202x120_df2399c5-6e37-4a0c-9e3f-ce6059f599d2.jpg\n",
      "Writing to thumbnail_202x120_df2399c5-6e37-4a0c-9e3f-ce6059f599d2.jpg (36288 bytes)\n",
      "thumbnail_202x120_8cc7212c-63d3-433e-8204-c70486fd2c2d.jpg\n",
      "Writing to thumbnail_202x120_8cc7212c-63d3-433e-8204-c70486fd2c2d.jpg (39009 bytes)\n",
      "thumbnail_title_nronakael_180327_.jpg\n",
      "Writing to thumbnail_title_nronakael_180327_.jpg (36353 bytes)\n",
      "title_thumbnail_20140103150651_t83x90.jpg\n",
      "Writing to title_thumbnail_20140103150651_t83x90.jpg (6122 bytes)\n",
      "title_thumbnail_20130607184714_t83x90.jpg\n",
      "Writing to title_thumbnail_20130607184714_t83x90.jpg (7544 bytes)\n",
      "title_thumbnail_20120329122039_t83x90.jpg\n",
      "Writing to title_thumbnail_20120329122039_t83x90.jpg (6242 bytes)\n",
      "title_thumbnail_20110408115556_t83x90.jpg\n",
      "Writing to title_thumbnail_20110408115556_t83x90.jpg (7838 bytes)\n"
     ]
    }
   ],
   "source": [
    "import requests\n",
    "from bs4 import BeautifulSoup\n",
    "import os\n",
    "\n",
    "main_url = 'https://comic.naver.com/webtoon/detail.nhn?titleId=626906&no=602&amp;weekday=tue'\n",
    "res = requests.get(main_url)\n",
    "html = res.text\n",
    "soup = BeautifulSoup(html, 'html.parser')\n",
    "\n",
    "\n",
    "img_urls = []\n",
    "for img_url in soup.select(\"img[src$='.jpg']\"):\n",
    "    img_urls.append(img_url['src'])\n",
    "    \n",
    "# 디렉토리 생성\n",
    "if not os.path.isdir('img'):\n",
    "    os.mkdir('img')\n",
    "      \n",
    "for real_url in img_urls:  \n",
    "        \n",
    "    req_header = {\n",
    "    'referer': main_url\n",
    "    }\n",
    "        \n",
    "    res2 = requests.get(real_url, headers=req_header)\n",
    "    img_data = res2.content\n",
    "    file_name = os.path.basename(real_url)\n",
    "    print(file_name)\n",
    "    with open('img/'+file_name,'wb') as file:\n",
    "        print('Writing to {} ({} bytes)'.format(file_name,len(img_data)))    \n",
    "        file.write(img_data)\n",
    "\n"
   ]
  },
  {
   "cell_type": "code",
   "execution_count": null,
   "metadata": {},
   "outputs": [],
   "source": []
  },
  {
   "cell_type": "code",
   "execution_count": null,
   "metadata": {},
   "outputs": [],
   "source": []
  }
 ],
 "metadata": {
  "kernelspec": {
   "display_name": "Python 3",
   "language": "python",
   "name": "python3"
  },
  "language_info": {
   "codemirror_mode": {
    "name": "ipython",
    "version": 3
   },
   "file_extension": ".py",
   "mimetype": "text/x-python",
   "name": "python",
   "nbconvert_exporter": "python",
   "pygments_lexer": "ipython3",
   "version": "3.7.0"
  }
 },
 "nbformat": 4,
 "nbformat_minor": 2
}
