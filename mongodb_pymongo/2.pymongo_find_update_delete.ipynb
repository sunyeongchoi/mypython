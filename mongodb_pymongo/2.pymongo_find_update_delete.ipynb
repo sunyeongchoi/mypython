{
 "cells": [
  {
   "cell_type": "code",
   "execution_count": 1,
   "metadata": {},
   "outputs": [
    {
     "name": "stdout",
     "output_type": "stream",
     "text": [
      "Name: pymongo\n",
      "Version: 3.10.1\n",
      "Summary: Python driver for MongoDB <http://www.mongodb.org>\n",
      "Home-page: http://github.com/mongodb/mongo-python-driver\n",
      "Author: Mike Dirolf\n",
      "Author-email: mongodb-user@googlegroups.com\n",
      "License: Apache License, Version 2.0\n",
      "Location: c:\\anaconda3\\lib\\site-packages\n",
      "Requires: \n",
      "Required-by: \n"
     ]
    },
    {
     "name": "stderr",
     "output_type": "stream",
     "text": [
      "You are using pip version 10.0.1, however version 20.2b1 is available.\n",
      "You should consider upgrading via the 'python -m pip install --upgrade pip' command.\n"
     ]
    }
   ],
   "source": [
    "!pip show pymongo"
   ]
  },
  {
   "cell_type": "markdown",
   "metadata": {},
   "source": [
    "### Pymongo를 사용해서 MongoDB 제어하기\n",
    "\n",
    "1. pymongo라이브러리 import\n",
    "2. MongoDB 접속\n",
    "3. Database, Collection 생성\n",
    "4. Collection의 document를 CRUD하기"
   ]
  },
  {
   "cell_type": "code",
   "execution_count": 7,
   "metadata": {},
   "outputs": [
    {
     "name": "stdout",
     "output_type": "stream",
     "text": [
      "MongoClient(host=['localhost:27017'], document_class=dict, tz_aware=False, connect=True)\n",
      "Database(MongoClient(host=['localhost:27017'], document_class=dict, tz_aware=False, connect=True), 'pymongo_db')\n",
      "pymongo_db\n",
      "Collection(Database(MongoClient(host=['localhost:27017'], document_class=dict, tz_aware=False, connect=True), 'pymongo_db'), 'pymongo_col')\n",
      "pymongo_col\n"
     ]
    }
   ],
   "source": [
    "import pymongo\n",
    "\n",
    "# connection 생성\n",
    "conn = pymongo.MongoClient(host='localhost', port=27017)\n",
    "print(conn)\n",
    "\n",
    "# database 생성\n",
    "db = conn.pymongo_db\n",
    "print(db)\n",
    "print(db.name)\n",
    "\n",
    "# collection 생성\n",
    "col = db.pymongo_col\n",
    "print(col)\n",
    "print(col.name)"
   ]
  },
  {
   "cell_type": "markdown",
   "metadata": {},
   "source": [
    "### insert_one(), insert_many() 함수 "
   ]
  },
  {
   "cell_type": "code",
   "execution_count": 20,
   "metadata": {},
   "outputs": [
    {
     "name": "stdout",
     "output_type": "stream",
     "text": [
      "<pymongo.results.InsertOneResult object at 0x000002BF60EBF048>\n",
      "5f226211c804792dc56bd51b\n"
     ]
    }
   ],
   "source": [
    "post = {'author':'길동','text':'첫번째 글','tags':['mongodb','python','pymongo']}\n",
    "result = col.insert_one(post)\n",
    "print(result)\n",
    "print(result.inserted_id)"
   ]
  },
  {
   "cell_type": "code",
   "execution_count": 11,
   "metadata": {},
   "outputs": [
    {
     "data": {
      "text/plain": [
       "<pymongo.cursor.Cursor at 0x2bf60eb5d68>"
      ]
     },
     "execution_count": 11,
     "metadata": {},
     "output_type": "execute_result"
    }
   ],
   "source": [
    "col.find()"
   ]
  },
  {
   "cell_type": "code",
   "execution_count": 12,
   "metadata": {},
   "outputs": [
    {
     "name": "stdout",
     "output_type": "stream",
     "text": [
      "<class 'dict'>\n",
      "{'_id': ObjectId('5f225fd9c804792dc56bd512'), 'author': '길동', 'text': '첫번째 글', 'tags': ['mongodb', 'python', 'pymongo']}\n"
     ]
    }
   ],
   "source": [
    "for post in col.find():\n",
    "    print(type(post))\n",
    "    print(post)"
   ]
  },
  {
   "cell_type": "code",
   "execution_count": 13,
   "metadata": {},
   "outputs": [
    {
     "data": {
      "text/plain": [
       "1"
      ]
     },
     "execution_count": 13,
     "metadata": {},
     "output_type": "execute_result"
    }
   ],
   "source": [
    "# document 갯수 알아내기\n",
    "col.count_documents({})"
   ]
  },
  {
   "cell_type": "code",
   "execution_count": 15,
   "metadata": {},
   "outputs": [
    {
     "data": {
      "text/plain": [
       "<pymongo.results.InsertManyResult at 0x2bf60b2ba48>"
      ]
     },
     "execution_count": 15,
     "metadata": {},
     "output_type": "execute_result"
    }
   ],
   "source": [
    "posts = [\n",
    "    {'author':'둘리','age':10},\n",
    "    {'author':'바다','age':20},\n",
    "    {'author':'연못','age':30}\n",
    "]\n",
    "col.insert_many(posts)"
   ]
  },
  {
   "cell_type": "code",
   "execution_count": 21,
   "metadata": {},
   "outputs": [
    {
     "name": "stdout",
     "output_type": "stream",
     "text": [
      "10\n",
      "{'_id': ObjectId('5f225fd9c804792dc56bd512'), 'author': '길동', 'text': '첫번째 글', 'tags': ['mongodb', 'python', 'pymongo']}\n",
      "{'_id': ObjectId('5f226168c804792dc56bd513'), 'author': '둘리', 'age': 10}\n",
      "{'_id': ObjectId('5f226168c804792dc56bd514'), 'author': '바다', 'age': 20}\n",
      "{'_id': ObjectId('5f226168c804792dc56bd515'), 'author': '연못', 'age': 30}\n",
      "{'_id': ObjectId('5f22617ec804792dc56bd516'), 'author': '둘리', 'age': 10}\n",
      "{'_id': ObjectId('5f22617ec804792dc56bd517'), 'author': '바다', 'age': 20}\n",
      "{'_id': ObjectId('5f22617ec804792dc56bd518'), 'author': '연못', 'age': 30}\n",
      "{'_id': ObjectId('5f2261e8c804792dc56bd519'), 'author': '길동', 'text': '첫번째 글', 'tags': ['mongodb', 'python', 'pymongo']}\n",
      "{'_id': ObjectId('5f2261f3c804792dc56bd51a'), 'author': '길동', 'text': '첫번째 글', 'tags': ['mongodb', 'python', 'pymongo']}\n",
      "{'_id': ObjectId('5f226211c804792dc56bd51b'), 'author': '길동', 'text': '첫번째 글', 'tags': ['mongodb', 'python', 'pymongo']}\n"
     ]
    }
   ],
   "source": [
    "print(col.count_documents({}))\n",
    "for post in col.find({}):\n",
    "    print(post)"
   ]
  },
  {
   "cell_type": "code",
   "execution_count": 22,
   "metadata": {},
   "outputs": [
    {
     "name": "stdout",
     "output_type": "stream",
     "text": [
      "{'author': '길동', 'text': '첫번째 글'}\n",
      "{'author': '둘리', 'age': 10}\n",
      "{'author': '바다', 'age': 20}\n",
      "{'author': '연못', 'age': 30}\n",
      "{'author': '둘리', 'age': 10}\n",
      "{'author': '바다', 'age': 20}\n",
      "{'author': '연못', 'age': 30}\n",
      "{'author': '길동', 'text': '첫번째 글'}\n",
      "{'author': '길동', 'text': '첫번째 글'}\n",
      "{'author': '길동', 'text': '첫번째 글'}\n"
     ]
    }
   ],
   "source": [
    "for post in col.find({},{'author':1,'age':1,'text':1,'_id':0}):\n",
    "    print(post)"
   ]
  },
  {
   "cell_type": "code",
   "execution_count": 26,
   "metadata": {},
   "outputs": [
    {
     "name": "stdout",
     "output_type": "stream",
     "text": [
      "{'author': '길동', 'text': '첫번째 글'}\n",
      "{'author': '길동', 'text': '첫번째 글'}\n",
      "{'author': '길동', 'text': '첫번째 글'}\n",
      "{'author': '길동', 'text': '첫번째 글'}\n",
      "{'author': '둘리', 'age': 10}\n",
      "{'author': '둘리', 'age': 10}\n",
      "{'author': '바다', 'age': 20}\n",
      "{'author': '바다', 'age': 20}\n",
      "{'author': '연못', 'age': 30}\n",
      "{'author': '연못', 'age': 30}\n"
     ]
    }
   ],
   "source": [
    "for post in col.find({},{'author':1,'age':1,'text':1,'_id':0}).sort('age',pymongo.ASCENDING):\n",
    "    print(post)"
   ]
  },
  {
   "cell_type": "code",
   "execution_count": 27,
   "metadata": {},
   "outputs": [
    {
     "name": "stdout",
     "output_type": "stream",
     "text": [
      "{'author': '연못', 'age': 30}\n",
      "{'author': '연못', 'age': 30}\n",
      "{'author': '바다', 'age': 20}\n",
      "{'author': '바다', 'age': 20}\n",
      "{'author': '둘리', 'age': 10}\n",
      "{'author': '둘리', 'age': 10}\n",
      "{'author': '길동', 'text': '첫번째 글'}\n",
      "{'author': '길동', 'text': '첫번째 글'}\n",
      "{'author': '길동', 'text': '첫번째 글'}\n",
      "{'author': '길동', 'text': '첫번째 글'}\n"
     ]
    }
   ],
   "source": [
    "for post in col.find({},{'author':1,'age':1,'text':1,'_id':0}).sort('age',pymongo.DESCENDING):\n",
    "    print(post)"
   ]
  },
  {
   "cell_type": "code",
   "execution_count": 28,
   "metadata": {},
   "outputs": [
    {
     "name": "stdout",
     "output_type": "stream",
     "text": [
      "Collection(Database(MongoClient(host=['localhost:27017'], document_class=dict, tz_aware=False, connect=True), 'pymongo_db'), 'employees')\n"
     ]
    }
   ],
   "source": [
    "# employees collection 생성하기\n",
    "emp = db.employees\n",
    "print(emp)"
   ]
  },
  {
   "cell_type": "code",
   "execution_count": 31,
   "metadata": {},
   "outputs": [
    {
     "data": {
      "text/plain": [
       "datetime.datetime(2016, 1, 2, 0, 0)"
      ]
     },
     "execution_count": 31,
     "metadata": {},
     "output_type": "execute_result"
    }
   ],
   "source": [
    "import datetime\n",
    "\n",
    "datetime.datetime.strptime('2016-01-02','%Y-%m-%d')"
   ]
  },
  {
   "cell_type": "code",
   "execution_count": 32,
   "metadata": {},
   "outputs": [
    {
     "data": {
      "text/plain": [
       "<pymongo.results.InsertManyResult at 0x2bf60f07cc8>"
      ]
     },
     "execution_count": 32,
     "metadata": {},
     "output_type": "execute_result"
    }
   ],
   "source": [
    "emp_list = [\n",
    "    {\"number\":1001,\"last_name\":\"Smith\",\"first_name\":\"John\",\"salary\":62000,\"department\":\"sales\", 'hire_date':datetime.datetime.strptime('2016-01-02','%Y-%m-%d')},\n",
    "    {\"number\":1002,\"last_name\":\"Anderson\",\"first_name\":\"Jane\",\"salary\":57500,\"department\":\"marketing\", 'hire_date':datetime.datetime.strptime('2013-11-09','%Y-%m-%d')},\n",
    "    {\"number\":1003,\"last_name\":\"Everest\",\"first_name\":\"Brad\",\"salary\":71000,\"department\":\"sales\", 'hire_date':datetime.datetime.strptime('2017-02-03','%Y-%m-%d')},\n",
    "    {\"number\":1004,\"last_name\":\"Horvath\",\"first_name\":\"Jack\",\"salary\":42000,\"department\":\"marketing\", 'hire_date':datetime.datetime.strptime('2017-06-01','%Y-%m-%d')},\n",
    "]\n",
    "emp.insert_many(emp_list)"
   ]
  },
  {
   "cell_type": "code",
   "execution_count": 33,
   "metadata": {},
   "outputs": [
    {
     "name": "stdout",
     "output_type": "stream",
     "text": [
      "{'_id': ObjectId('5f22660ac804792dc56bd51c'), 'number': 1001, 'last_name': 'Smith', 'first_name': 'John', 'salary': 62000, 'department': 'sales', 'hire_date': datetime.datetime(2016, 1, 2, 0, 0)}\n",
      "{'_id': ObjectId('5f22660ac804792dc56bd51d'), 'number': 1002, 'last_name': 'Anderson', 'first_name': 'Jane', 'salary': 57500, 'department': 'marketing', 'hire_date': datetime.datetime(2013, 11, 9, 0, 0)}\n",
      "{'_id': ObjectId('5f22660ac804792dc56bd51e'), 'number': 1003, 'last_name': 'Everest', 'first_name': 'Brad', 'salary': 71000, 'department': 'sales', 'hire_date': datetime.datetime(2017, 2, 3, 0, 0)}\n",
      "{'_id': ObjectId('5f22660ac804792dc56bd51f'), 'number': 1004, 'last_name': 'Horvath', 'first_name': 'Jack', 'salary': 42000, 'department': 'marketing', 'hire_date': datetime.datetime(2017, 6, 1, 0, 0)}\n"
     ]
    }
   ],
   "source": [
    "for employee in emp.find():\n",
    "    print(employee)"
   ]
  },
  {
   "cell_type": "code",
   "execution_count": 44,
   "metadata": {},
   "outputs": [
    {
     "name": "stdout",
     "output_type": "stream",
     "text": [
      "{'number': 1001, 'last_name': 'Smith', 'first_name': 'John', 'salary': 62000, 'department': 'sales', 'hire_date': datetime.datetime(2016, 1, 2, 0, 0)}\n",
      "{'number': 1002, 'last_name': 'Anderson', 'first_name': 'Jane', 'salary': 57500, 'department': 'marketing', 'hire_date': datetime.datetime(2013, 11, 9, 0, 0)}\n"
     ]
    }
   ],
   "source": [
    "# first_name like ''%a%''\n",
    "filter = {'first_name':{'$regex':'a'}} #a가 포함되어있는\n",
    "filter = {'first_name':{'$regex':'^J'}} #J로 시작되는\n",
    "filter = {'last_name':{'$regex':'h$'}} #h로 끝니는\n",
    "\n",
    "from datetime import datetime\n",
    "from_dt = datetime.strptime('2016-01-02','%Y-%m-%d')\n",
    "to_dt = datetime.strptime('2017-05-30','%Y-%m-%d')\n",
    "filter = {'hire_date':{'$gte':from_dt,'$lte':to_dt}}\n",
    "filter = {'number':{'$in':[1001,1002]}}\n",
    "for employee in emp.find(filter,{'_id':0}):\n",
    "    print(employee)"
   ]
  },
  {
   "cell_type": "markdown",
   "metadata": {},
   "source": [
    "### update_one(), update_many()"
   ]
  },
  {
   "cell_type": "code",
   "execution_count": 52,
   "metadata": {},
   "outputs": [
    {
     "data": {
      "text/plain": [
       "<pymongo.results.UpdateResult at 0x2bf60f23b88>"
      ]
     },
     "execution_count": 52,
     "metadata": {},
     "output_type": "execute_result"
    }
   ],
   "source": [
    "emp.update_one({'number':1001},{'$set':{'department':'marketing'}})\n",
    "# number = 1001, salary 62000 -> 63000\n",
    "emp.update_one({'number':1001},{'$inc':{'salary':1000}})"
   ]
  },
  {
   "cell_type": "code",
   "execution_count": 55,
   "metadata": {},
   "outputs": [
    {
     "data": {
      "text/plain": [
       "<pymongo.results.UpdateResult at 0x2bf60f23d88>"
      ]
     },
     "execution_count": 55,
     "metadata": {},
     "output_type": "execute_result"
    }
   ],
   "source": [
    "# status 컬럼 추가 (A값으로 넣어서)\n",
    "emp.update_many({},{'$set':{'status':'A'}})"
   ]
  },
  {
   "cell_type": "code",
   "execution_count": 58,
   "metadata": {},
   "outputs": [
    {
     "name": "stdout",
     "output_type": "stream",
     "text": [
      "{'number': 1001, 'last_name': 'Smith', 'first_name': 'John', 'salary': 63000, 'department': 'marketing', 'hire_date': datetime.datetime(2016, 1, 2, 0, 0), 'status': 'A'}\n",
      "{'number': 1002, 'last_name': 'Anderson', 'first_name': 'Jane', 'salary': 57500, 'department': 'marketing', 'hire_date': datetime.datetime(2013, 11, 9, 0, 0), 'status': 'A'}\n",
      "{'number': 1003, 'last_name': 'Everest', 'first_name': 'Brad', 'salary': 71000, 'department': 'sales', 'hire_date': datetime.datetime(2017, 2, 3, 0, 0), 'status': 'A'}\n",
      "{'number': 1004, 'last_name': 'Horvath', 'first_name': 'Jack', 'salary': 42000, 'department': 'marketing', 'hire_date': datetime.datetime(2017, 6, 1, 0, 0), 'status': 'A'}\n"
     ]
    }
   ],
   "source": [
    "for post in emp.find({},{'_id':0}):\n",
    "    print(post)"
   ]
  },
  {
   "cell_type": "code",
   "execution_count": 60,
   "metadata": {},
   "outputs": [
    {
     "name": "stdout",
     "output_type": "stream",
     "text": [
      "{'number': 1001, 'last_name': 'Smith', 'first_name': 'John', 'salary': 63000, 'department': 'marketing', 'hire_date': datetime.datetime(2016, 1, 2, 0, 0), 'status': 'A'}\n",
      "{'number': 1002, 'last_name': 'Anderson', 'first_name': 'Jane', 'salary': 57500, 'department': 'marketing', 'hire_date': datetime.datetime(2013, 11, 9, 0, 0), 'status': 'A'}\n",
      "{'number': 1003, 'last_name': 'Everest', 'first_name': 'Brad', 'salary': 71000, 'department': 'sales', 'hire_date': datetime.datetime(2017, 2, 3, 0, 0), 'status': 'B'}\n",
      "{'number': 1004, 'last_name': 'Horvath', 'first_name': 'Jack', 'salary': 42000, 'department': 'marketing', 'hire_date': datetime.datetime(2017, 6, 1, 0, 0), 'status': 'B'}\n"
     ]
    }
   ],
   "source": [
    "# update many()\n",
    "# number in [1003,1004] - status = 'B'\n",
    "emp.update_many({'number':{'$in':[1003,1004]}},{'$set':{'status':'B'}})\n",
    "for post in emp.find({},{'_id':0}):\n",
    "    print(post)"
   ]
  },
  {
   "cell_type": "code",
   "execution_count": 61,
   "metadata": {},
   "outputs": [
    {
     "name": "stdout",
     "output_type": "stream",
     "text": [
      "{'number': 1001, 'last_name': 'Smith', 'first_name': 'John', 'salary': 63000, 'department': 'marketing', 'hire_date': datetime.datetime(2016, 1, 2, 0, 0), 'status': 'A'}\n",
      "{'number': 1002, 'last_name': 'Anderson', 'first_name': 'Jane', 'salary': 57500, 'department': 'marketing', 'hire_date': datetime.datetime(2013, 11, 9, 0, 0), 'status': 'A'}\n"
     ]
    }
   ],
   "source": [
    "# delete many()\n",
    "# status = 'B'\n",
    "emp.delete_many({'status':'B'})\n",
    "for post in emp.find({},{'_id':0}):\n",
    "    print(post)"
   ]
  },
  {
   "cell_type": "code",
   "execution_count": null,
   "metadata": {},
   "outputs": [],
   "source": []
  },
  {
   "cell_type": "code",
   "execution_count": null,
   "metadata": {},
   "outputs": [],
   "source": []
  }
 ],
 "metadata": {
  "kernelspec": {
   "display_name": "Python 3",
   "language": "python",
   "name": "python3"
  },
  "language_info": {
   "codemirror_mode": {
    "name": "ipython",
    "version": 3
   },
   "file_extension": ".py",
   "mimetype": "text/x-python",
   "name": "python",
   "nbconvert_exporter": "python",
   "pygments_lexer": "ipython3",
   "version": "3.7.0"
  }
 },
 "nbformat": 4,
 "nbformat_minor": 2
}
